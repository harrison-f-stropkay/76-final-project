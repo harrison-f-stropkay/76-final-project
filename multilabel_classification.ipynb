{
 "cells": [
  {
   "cell_type": "markdown",
   "metadata": {},
   "source": [
    "# Prep data"
   ]
  },
  {
   "cell_type": "markdown",
   "metadata": {},
   "source": [
    "Using only annotation type == \"Main Description\" and annotation source == \"Ingram\""
   ]
  },
  {
   "cell_type": "code",
   "execution_count": 23,
   "metadata": {},
   "outputs": [
    {
     "name": "stdout",
     "output_type": "stream",
     "text": [
      "original dataframe shape: (148409, 5)\n",
      "\"Main Description\", \"Ingram\" dataframe shape: (59633, 5)\n",
      "bisacs with at least 500 books:\n",
      "{'FIC', 'JUV', 'REL', 'ART', 'BUS', 'REF', 'SPO', 'HEA', 'PHO', 'MUS', 'MED', 'DRA', 'BIO', 'LAN', 'LIT', 'HIS', 'HUM', 'TRV', 'YAF', 'TEC', 'SCI', 'LCO', 'SOC', 'CKB', 'PER', 'CRA', 'SEL', 'COM', 'NAT', 'FAM', 'TRU', 'PHI', 'POE', 'PSY', 'POL', 'OCC'}\n",
      "dataframe with only books that have all of their bisacs in bisacs_500 shape: (55280, 5)\n"
     ]
    }
   ],
   "source": [
    "import ast\n",
    "import re\n",
    "import pandas as pd\n",
    "\n",
    "df = pd.read_csv(\"data.csv\")\n",
    "print(f\"original dataframe shape: {df.shape}\")\n",
    "\n",
    "df = df[\n",
    "    (df[\"annot_type\"] == \"Main Description\") & (df[\"annot_source\"] == \"Ingram\")\n",
    "].copy()\n",
    "df[\"BISAC\"] = df[\"BISAC\"].apply(ast.literal_eval)\n",
    "print(f'\"Main Description\", \"Ingram\" dataframe shape: {df.shape}')\n",
    "\n",
    "# convert BISAC to only alpha characters\n",
    "df[\"BISAC\"] = df[\"BISAC\"].apply(\n",
    "    lambda x: [re.sub(r\"[^a-zA-Z]\", \"\", bisac) for bisac in x]\n",
    ")\n",
    "\n",
    "# remove duplicate BISACs\n",
    "df[\"BISAC\"] = df[\"BISAC\"].apply(lambda x: list(set(x)))\n",
    "\n",
    "# get set of bisacs that have at least 500 books\n",
    "bisac_counts = df[\"BISAC\"].explode().value_counts()\n",
    "bisac_counts = bisac_counts[bisac_counts >= 500]\n",
    "bisac_counts = bisac_counts.index\n",
    "bisacs_500 = set(bisac_counts)\n",
    "print(\"bisacs with at least 500 books:\")\n",
    "print(bisacs_500)\n",
    "\n",
    "# create a new dataframe with only books that have all of their bisacs in bisacs_500\n",
    "df = df[df[\"BISAC\"].apply(lambda x: all(bisac in bisacs_500 for bisac in x))]\n",
    "print(\n",
    "    f\"dataframe with only books that have all of their bisacs in bisacs_500 shape: {df.shape}\"\n",
    ")"
   ]
  },
  {
   "cell_type": "markdown",
   "metadata": {},
   "source": [
    "# Classification"
   ]
  },
  {
   "cell_type": "code",
   "execution_count": 7,
   "metadata": {},
   "outputs": [],
   "source": []
  }
 ],
 "metadata": {
  "kernelspec": {
   "display_name": ".venv",
   "language": "python",
   "name": "python3"
  },
  "language_info": {
   "codemirror_mode": {
    "name": "ipython",
    "version": 3
   },
   "file_extension": ".py",
   "mimetype": "text/x-python",
   "name": "python",
   "nbconvert_exporter": "python",
   "pygments_lexer": "ipython3",
   "version": "3.10.12"
  }
 },
 "nbformat": 4,
 "nbformat_minor": 2
}
