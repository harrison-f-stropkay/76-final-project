{
 "cells": [
  {
   "cell_type": "markdown",
   "metadata": {},
   "source": [
    "# Combine the BISAC and summaries datasets"
   ]
  },
  {
   "cell_type": "code",
   "execution_count": 8,
   "metadata": {},
   "outputs": [],
   "source": [
    "import pandas as pd\n",
    "\n",
    "file1 = pd.read_csv(\"original-data/Dartmount_subjects.txt\", sep=\"|\")\n",
    "file1[\"isbn13\"] = file1[\"isbn13\"].astype(str)\n",
    "\n",
    "file2 = pd.read_csv(\"original-data/Dartmount_summaries.txt\", sep=\"|\")\n",
    "file2[\"isbn13\"] = file2[\"isbn13\"].astype(str)\n",
    "\n",
    "merged_df = pd.merge(file1, file2, on=\"isbn13\")\n",
    "\n",
    "merged_df[\"BISAC\"] = merged_df[\"BISAC\"].str.split(\"#\")"
   ]
  },
  {
   "cell_type": "code",
   "execution_count": 9,
   "metadata": {},
   "outputs": [
    {
     "name": "stdout",
     "output_type": "stream",
     "text": [
      "(149387, 2)\n",
      "(153904, 4)\n",
      "(148409, 5)\n"
     ]
    }
   ],
   "source": [
    "print(file1.shape)\n",
    "print(file2.shape)\n",
    "print(merged_df.shape)"
   ]
  },
  {
   "cell_type": "markdown",
   "metadata": {},
   "source": [
    "the one that causes the error: `print(html_to_text(merged_df[\"annot\"][11138]))`"
   ]
  },
  {
   "cell_type": "code",
   "execution_count": 10,
   "metadata": {},
   "outputs": [
    {
     "name": "stderr",
     "output_type": "stream",
     "text": [
      "/tmp/ipykernel_2146492/1447046160.py:6: MarkupResemblesLocatorWarning: The input looks more like a filename than markup. You may want to open this file and pass the filehandle into Beautiful Soup.\n",
      "  soup = BeautifulSoup(content)\n"
     ]
    }
   ],
   "source": [
    "from bs4 import BeautifulSoup\n",
    "import pandas as pd\n",
    "\n",
    "\n",
    "def get_text(content):\n",
    "    soup = BeautifulSoup(content)\n",
    "    return soup.get_text(separator=\"\\n\", strip=True)\n",
    "\n",
    "\n",
    "merged_df[\"annot\"] = merged_df[\"annot\"].apply(get_text)\n",
    "merged_df.rename(columns={\"isbn13\": \"isbn\", \"annot\": \"summary\"}, inplace=True)"
   ]
  },
  {
   "cell_type": "markdown",
   "metadata": {},
   "source": [
    "# Add a chunk of 2000 words from the full text to each row"
   ]
  },
  {
   "cell_type": "code",
   "execution_count": 11,
   "metadata": {},
   "outputs": [
    {
     "name": "stderr",
     "output_type": "stream",
     "text": [
      "100%|██████████| 174918/174918 [00:11<00:00, 15220.04it/s]\n"
     ]
    }
   ],
   "source": [
    "import pandas as pd\n",
    "import ast\n",
    "from tqdm import tqdm\n",
    "\n",
    "df = pd.read_csv(\"isbns.csv\")\n",
    "\n",
    "titles = []\n",
    "isbns = []\n",
    "for i, row in tqdm(df.iterrows(), total=len(df)):\n",
    "    titles.append(row[\"filename\"])\n",
    "    isbn_1d = ast.literal_eval(row[\"isbns\"])\n",
    "    isbn = \"\"\n",
    "    if len(isbn_1d) == 1 or len(str(isbn_1d[0])) == 13:\n",
    "        isbns.append(isbn_1d[0])\n",
    "    else:\n",
    "        isbn_1d = [str(isbn) for isbn in isbn_1d]\n",
    "        isbn_1d.sort(key=len, reverse=True)\n",
    "        isbns.append(int(isbn_1d[0]))\n",
    "\n",
    "isbn_to_title = {isbn: title for isbn, title in zip(isbns, titles)}"
   ]
  },
  {
   "cell_type": "markdown",
   "metadata": {},
   "source": [
    "### Only take summaries that are of type \"Main Description\" and from \"Publisher\", \"Ingram\", or \"Ingram Syndetics\""
   ]
  },
  {
   "cell_type": "code",
   "execution_count": 12,
   "metadata": {},
   "outputs": [
    {
     "data": {
      "text/html": [
       "<div>\n",
       "<style scoped>\n",
       "    .dataframe tbody tr th:only-of-type {\n",
       "        vertical-align: middle;\n",
       "    }\n",
       "\n",
       "    .dataframe tbody tr th {\n",
       "        vertical-align: top;\n",
       "    }\n",
       "\n",
       "    .dataframe thead th {\n",
       "        text-align: right;\n",
       "    }\n",
       "</style>\n",
       "<table border=\"1\" class=\"dataframe\">\n",
       "  <thead>\n",
       "    <tr style=\"text-align: right;\">\n",
       "      <th></th>\n",
       "      <th>isbn</th>\n",
       "      <th>BISAC</th>\n",
       "      <th>summary</th>\n",
       "    </tr>\n",
       "  </thead>\n",
       "  <tbody>\n",
       "    <tr>\n",
       "      <th>0</th>\n",
       "      <td>9780001847118</td>\n",
       "      <td>[JUV037000, YAF019000, JUV001000, JUV000000, J...</td>\n",
       "      <td>This is a fantasy adventure by Alan Garner.</td>\n",
       "    </tr>\n",
       "    <tr>\n",
       "      <th>1</th>\n",
       "      <td>9780002006781</td>\n",
       "      <td>[HEA042000]</td>\n",
       "      <td>In those first heady days of a relationship, c...</td>\n",
       "    </tr>\n",
       "    <tr>\n",
       "      <th>2</th>\n",
       "      <td>9780002007580</td>\n",
       "      <td>[TRU001000, HIS037070]</td>\n",
       "      <td>In 1972, 11 Israeli athletes were murdered at ...</td>\n",
       "    </tr>\n",
       "    <tr>\n",
       "      <th>3</th>\n",
       "      <td>9780002007801</td>\n",
       "      <td>[CKB000000]</td>\n",
       "      <td>Watch a video trailer for The Devil's Picnic\\n...</td>\n",
       "    </tr>\n",
       "    <tr>\n",
       "      <th>4</th>\n",
       "      <td>9780002189613</td>\n",
       "      <td>[SPO000000]</td>\n",
       "      <td>In a world where it is becoming increasingly d...</td>\n",
       "    </tr>\n",
       "    <tr>\n",
       "      <th>...</th>\n",
       "      <td>...</td>\n",
       "      <td>...</td>\n",
       "      <td>...</td>\n",
       "    </tr>\n",
       "    <tr>\n",
       "      <th>148402</th>\n",
       "      <td>9789888273454</td>\n",
       "      <td>[TRV003050, HIS021000]</td>\n",
       "      <td>A breathtaking romp through the city's Tokyo's...</td>\n",
       "    </tr>\n",
       "    <tr>\n",
       "      <th>148403</th>\n",
       "      <td>9789888422609</td>\n",
       "      <td>[HIS021000, HIS003000]</td>\n",
       "      <td>Somebody knew. Who knew? Did Winston Churchill...</td>\n",
       "    </tr>\n",
       "    <tr>\n",
       "      <th>148405</th>\n",
       "      <td>9789927101892</td>\n",
       "      <td>[FIC019000]</td>\n",
       "      <td>A Sudanese writer begins to suspect that one o...</td>\n",
       "    </tr>\n",
       "    <tr>\n",
       "      <th>148407</th>\n",
       "      <td>9789992194287</td>\n",
       "      <td>[FIC019000]</td>\n",
       "      <td>When an opulent palace is built on the Jeddah ...</td>\n",
       "    </tr>\n",
       "    <tr>\n",
       "      <th>148408</th>\n",
       "      <td>9789992195451</td>\n",
       "      <td>[FIC032000, FIC019000]</td>\n",
       "      <td>Winner of the prestigious International Prize ...</td>\n",
       "    </tr>\n",
       "  </tbody>\n",
       "</table>\n",
       "<p>141696 rows × 3 columns</p>\n",
       "</div>"
      ],
      "text/plain": [
       "                 isbn                                              BISAC  \\\n",
       "0       9780001847118  [JUV037000, YAF019000, JUV001000, JUV000000, J...   \n",
       "1       9780002006781                                        [HEA042000]   \n",
       "2       9780002007580                             [TRU001000, HIS037070]   \n",
       "3       9780002007801                                        [CKB000000]   \n",
       "4       9780002189613                                        [SPO000000]   \n",
       "...               ...                                                ...   \n",
       "148402  9789888273454                             [TRV003050, HIS021000]   \n",
       "148403  9789888422609                             [HIS021000, HIS003000]   \n",
       "148405  9789927101892                                        [FIC019000]   \n",
       "148407  9789992194287                                        [FIC019000]   \n",
       "148408  9789992195451                             [FIC032000, FIC019000]   \n",
       "\n",
       "                                                  summary  \n",
       "0             This is a fantasy adventure by Alan Garner.  \n",
       "1       In those first heady days of a relationship, c...  \n",
       "2       In 1972, 11 Israeli athletes were murdered at ...  \n",
       "3       Watch a video trailer for The Devil's Picnic\\n...  \n",
       "4       In a world where it is becoming increasingly d...  \n",
       "...                                                   ...  \n",
       "148402  A breathtaking romp through the city's Tokyo's...  \n",
       "148403  Somebody knew. Who knew? Did Winston Churchill...  \n",
       "148405  A Sudanese writer begins to suspect that one o...  \n",
       "148407  When an opulent palace is built on the Jeddah ...  \n",
       "148408  Winner of the prestigious International Prize ...  \n",
       "\n",
       "[141696 rows x 3 columns]"
      ]
     },
     "execution_count": 12,
     "metadata": {},
     "output_type": "execute_result"
    }
   ],
   "source": [
    "merged_df = merged_df[(merged_df[\"annot_type\"] == \"Main Description\")]\n",
    "merged_df = merged_df[\n",
    "    merged_df[\"annot_source\"].isin([\"Publisher\", \"Ingram\", \"Ingram Syndetics\"])\n",
    "]\n",
    "merged_df = merged_df[[\"isbn\", \"BISAC\", \"summary\"]]\n",
    "merged_df"
   ]
  },
  {
   "cell_type": "code",
   "execution_count": 14,
   "metadata": {},
   "outputs": [
    {
     "name": "stderr",
     "output_type": "stream",
     "text": [
      " 44%|████▍     | 62085/141696 [06:21<17:25, 76.11it/s]  "
     ]
    },
    {
     "name": "stdout",
     "output_type": "stream",
     "text": [
      "Error processing ISBN 9780919626102: 9780919626102\n"
     ]
    },
    {
     "name": "stderr",
     "output_type": "stream",
     "text": [
      "100%|██████████| 141696/141696 [19:32<00:00, 120.81it/s]\n"
     ]
    }
   ],
   "source": [
    "import multiprocessing\n",
    "from tqdm import tqdm\n",
    "import random\n",
    "\n",
    "full_text_dir = \"Bibliotik\"\n",
    "\n",
    "\n",
    "def get_chunk(isbn):\n",
    "    try:\n",
    "        title = isbn_to_title[int(isbn)]\n",
    "        with open(f\"{full_text_dir}/{title}\", \"r\") as f:\n",
    "            text = f.read()\n",
    "        words = text.split()\n",
    "        n_words = len(words)\n",
    "        if n_words < 2000:\n",
    "            return None\n",
    "        start = random.randint(0, n_words - 2000)\n",
    "        return \" \".join(words[start : start + 2000])\n",
    "    except Exception as e:\n",
    "        print(f\"Error processing ISBN {isbn}: {e}\")\n",
    "        return None\n",
    "\n",
    "\n",
    "isbns = merged_df[\"isbn\"].tolist()\n",
    "\n",
    "num_processes = multiprocessing.cpu_count() - 1\n",
    "\n",
    "pool = multiprocessing.Pool(processes=num_processes)\n",
    "\n",
    "with multiprocessing.Pool(processes=num_processes) as pool:\n",
    "    chunks = list(tqdm(pool.imap(get_chunk, isbns), total=len(isbns)))\n",
    "\n",
    "pool.close()\n",
    "pool.join()"
   ]
  },
  {
   "cell_type": "code",
   "execution_count": 24,
   "metadata": {},
   "outputs": [],
   "source": [
    "merged_df[\"text\"] = chunks\n",
    "merged_df.to_csv(\"data.csv\", index=False)"
   ]
  },
  {
   "cell_type": "markdown",
   "metadata": {},
   "source": [
    "# Remove rows with empty summaries, text, or BISAC codes"
   ]
  },
  {
   "cell_type": "code",
   "execution_count": 3,
   "metadata": {},
   "outputs": [],
   "source": [
    "import pandas as pd\n",
    "\n",
    "df = pd.read_csv(\"../data.csv\")\n",
    "df.dropna(subset=[\"summary\", \"text\", \"BISAC\"], inplace=True)\n",
    "df.to_csv(\"../data.csv\", index=False)"
   ]
  },
  {
   "cell_type": "markdown",
   "metadata": {},
   "source": [
    "# Merge the BISAC and summaries dataset with the KR dataset"
   ]
  },
  {
   "cell_type": "code",
   "execution_count": 5,
   "metadata": {},
   "outputs": [],
   "source": [
    "df = pd.read_csv(\"../data.csv\")\n",
    "df_kr = pd.read_csv(\"kr.csv\")"
   ]
  },
  {
   "cell_type": "code",
   "execution_count": 8,
   "metadata": {},
   "outputs": [],
   "source": [
    "df[\"isbn\"] = df[\"isbn\"].astype(str)\n",
    "df_kr[\"isbn\"] = df_kr[\"ISBN\"].astype(str).apply(lambda s: s.replace(\"-\", \"\"))\n",
    "df_kr[\"isbn\"]\n",
    "\n",
    "df_merged = pd.merge(df, df_kr, on=\"isbn\")\n",
    "df_merged = df_merged[\n",
    "    [\n",
    "        \"isbn\",\n",
    "        \"BISAC\",\n",
    "        \"summary\",\n",
    "        \"text\",\n",
    "        \"Title\",\n",
    "        \"Kirkus Star\",\n",
    "        \"Author\",\n",
    "        \"Genre\",\n",
    "        \"Publisher\",\n",
    "    ]\n",
    "]\n",
    "df_merged.rename(\n",
    "    columns={\n",
    "        \"Title\": \"title\",\n",
    "        \"Kirkus Star\": \"kirkus_star\",\n",
    "        \"Author\": \"author\",\n",
    "        \"Genre\": \"genre\",\n",
    "        \"Publisher\": \"publisher\",\n",
    "    },\n",
    "    inplace=True,\n",
    ")\n",
    "df_merged.to_csv(\"../data_kr.csv\", index=False)"
   ]
  }
 ],
 "metadata": {
  "kernelspec": {
   "display_name": ".venv",
   "language": "python",
   "name": "python3"
  },
  "language_info": {
   "codemirror_mode": {
    "name": "ipython",
    "version": 3
   },
   "file_extension": ".py",
   "mimetype": "text/x-python",
   "name": "python",
   "nbconvert_exporter": "python",
   "pygments_lexer": "ipython3",
   "version": "3.10.12"
  }
 },
 "nbformat": 4,
 "nbformat_minor": 2
}
