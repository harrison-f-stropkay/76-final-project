{
 "cells": [
  {
   "cell_type": "code",
   "execution_count": 1,
   "metadata": {},
   "outputs": [],
   "source": [
    "import pandas as pd\n",
    "\n",
    "file1 = pd.read_csv(\"original-data/Dartmount_subjects.txt\", sep=\"|\")\n",
    "file1[\"isbn13\"] = file1[\"isbn13\"].astype(str)\n",
    "\n",
    "file2 = pd.read_csv(\"original-data/Dartmount_summaries.txt\", sep=\"|\")\n",
    "file2[\"isbn13\"] = file2[\"isbn13\"].astype(str)\n",
    "\n",
    "merged_df = pd.merge(file1, file2, on=\"isbn13\")\n",
    "\n",
    "merged_df[\"BISAC\"] = merged_df[\"BISAC\"].str.split(\"#\")"
   ]
  },
  {
   "cell_type": "code",
   "execution_count": 2,
   "metadata": {},
   "outputs": [
    {
     "name": "stdout",
     "output_type": "stream",
     "text": [
      "(149387, 2)\n",
      "(153904, 4)\n",
      "(148409, 5)\n"
     ]
    }
   ],
   "source": [
    "print(file1.shape)\n",
    "print(file2.shape)\n",
    "print(merged_df.shape)"
   ]
  },
  {
   "cell_type": "markdown",
   "metadata": {},
   "source": [
    "the one that causes the error: `print(html_to_text(merged_df[\"annot\"][11138]))`"
   ]
  },
  {
   "cell_type": "code",
   "execution_count": 3,
   "metadata": {},
   "outputs": [
    {
     "name": "stderr",
     "output_type": "stream",
     "text": [
      "/tmp/ipykernel_691092/3434459341.py:6: MarkupResemblesLocatorWarning: The input looks more like a filename than markup. You may want to open this file and pass the filehandle into Beautiful Soup.\n",
      "  soup = BeautifulSoup(content)\n"
     ]
    }
   ],
   "source": [
    "from bs4 import BeautifulSoup\n",
    "import pandas as pd\n",
    "\n",
    "\n",
    "def get_text(content):\n",
    "    soup = BeautifulSoup(content)\n",
    "    return soup.get_text(separator=\"\\n\", strip=True)\n",
    "\n",
    "\n",
    "merged_df[\"annot\"] = merged_df[\"annot\"].apply(get_text)"
   ]
  },
  {
   "cell_type": "code",
   "execution_count": 4,
   "metadata": {},
   "outputs": [
    {
     "data": {
      "text/html": [
       "<div>\n",
       "<style scoped>\n",
       "    .dataframe tbody tr th:only-of-type {\n",
       "        vertical-align: middle;\n",
       "    }\n",
       "\n",
       "    .dataframe tbody tr th {\n",
       "        vertical-align: top;\n",
       "    }\n",
       "\n",
       "    .dataframe thead th {\n",
       "        text-align: right;\n",
       "    }\n",
       "</style>\n",
       "<table border=\"1\" class=\"dataframe\">\n",
       "  <thead>\n",
       "    <tr style=\"text-align: right;\">\n",
       "      <th></th>\n",
       "      <th>isbn13</th>\n",
       "      <th>BISAC</th>\n",
       "      <th>annot_type</th>\n",
       "      <th>annot_source</th>\n",
       "      <th>annot</th>\n",
       "    </tr>\n",
       "  </thead>\n",
       "  <tbody>\n",
       "    <tr>\n",
       "      <th>0</th>\n",
       "      <td>9780001847118</td>\n",
       "      <td>[JUV037000, YAF019000, JUV001000, JUV000000, J...</td>\n",
       "      <td>Main Description</td>\n",
       "      <td>Ingram</td>\n",
       "      <td>This is a fantasy adventure by Alan Garner.</td>\n",
       "    </tr>\n",
       "    <tr>\n",
       "      <th>1</th>\n",
       "      <td>9780002006781</td>\n",
       "      <td>[HEA042000]</td>\n",
       "      <td>Main Description</td>\n",
       "      <td>Ingram</td>\n",
       "      <td>In those first heady days of a relationship, c...</td>\n",
       "    </tr>\n",
       "    <tr>\n",
       "      <th>2</th>\n",
       "      <td>9780002007580</td>\n",
       "      <td>[TRU001000, HIS037070]</td>\n",
       "      <td>Main Description</td>\n",
       "      <td>Ingram</td>\n",
       "      <td>In 1972, 11 Israeli athletes were murdered at ...</td>\n",
       "    </tr>\n",
       "    <tr>\n",
       "      <th>3</th>\n",
       "      <td>9780002007801</td>\n",
       "      <td>[CKB000000]</td>\n",
       "      <td>Main Description</td>\n",
       "      <td>Publisher</td>\n",
       "      <td>Watch a video trailer for The Devil's Picnic\\n...</td>\n",
       "    </tr>\n",
       "    <tr>\n",
       "      <th>4</th>\n",
       "      <td>9780002189613</td>\n",
       "      <td>[SPO000000]</td>\n",
       "      <td>Main Description</td>\n",
       "      <td>Ingram</td>\n",
       "      <td>In a world where it is becoming increasingly d...</td>\n",
       "    </tr>\n",
       "    <tr>\n",
       "      <th>...</th>\n",
       "      <td>...</td>\n",
       "      <td>...</td>\n",
       "      <td>...</td>\n",
       "      <td>...</td>\n",
       "      <td>...</td>\n",
       "    </tr>\n",
       "    <tr>\n",
       "      <th>148404</th>\n",
       "      <td>9789889979904</td>\n",
       "      <td>[BUS035000]</td>\n",
       "      <td>Author Affiliation</td>\n",
       "      <td>Ingram</td>\n",
       "      <td>Jack Leblanc arrived in China in 1989 intendin...</td>\n",
       "    </tr>\n",
       "    <tr>\n",
       "      <th>148405</th>\n",
       "      <td>9789927101892</td>\n",
       "      <td>[FIC019000]</td>\n",
       "      <td>Main Description</td>\n",
       "      <td>Ingram</td>\n",
       "      <td>A Sudanese writer begins to suspect that one o...</td>\n",
       "    </tr>\n",
       "    <tr>\n",
       "      <th>148406</th>\n",
       "      <td>9789966003157</td>\n",
       "      <td>[REL067000]</td>\n",
       "      <td>Author Affiliation</td>\n",
       "      <td>Ingram</td>\n",
       "      <td>Femi B. Adeleye has been involved in student m...</td>\n",
       "    </tr>\n",
       "    <tr>\n",
       "      <th>148407</th>\n",
       "      <td>9789992194287</td>\n",
       "      <td>[FIC019000]</td>\n",
       "      <td>Main Description</td>\n",
       "      <td>Publisher</td>\n",
       "      <td>When an opulent palace is built on the Jeddah ...</td>\n",
       "    </tr>\n",
       "    <tr>\n",
       "      <th>148408</th>\n",
       "      <td>9789992195451</td>\n",
       "      <td>[FIC032000, FIC019000]</td>\n",
       "      <td>Main Description</td>\n",
       "      <td>Publisher</td>\n",
       "      <td>Winner of the prestigious International Prize ...</td>\n",
       "    </tr>\n",
       "  </tbody>\n",
       "</table>\n",
       "<p>148409 rows × 5 columns</p>\n",
       "</div>"
      ],
      "text/plain": [
       "               isbn13                                              BISAC  \\\n",
       "0       9780001847118  [JUV037000, YAF019000, JUV001000, JUV000000, J...   \n",
       "1       9780002006781                                        [HEA042000]   \n",
       "2       9780002007580                             [TRU001000, HIS037070]   \n",
       "3       9780002007801                                        [CKB000000]   \n",
       "4       9780002189613                                        [SPO000000]   \n",
       "...               ...                                                ...   \n",
       "148404  9789889979904                                        [BUS035000]   \n",
       "148405  9789927101892                                        [FIC019000]   \n",
       "148406  9789966003157                                        [REL067000]   \n",
       "148407  9789992194287                                        [FIC019000]   \n",
       "148408  9789992195451                             [FIC032000, FIC019000]   \n",
       "\n",
       "                annot_type annot_source  \\\n",
       "0         Main Description       Ingram   \n",
       "1         Main Description       Ingram   \n",
       "2         Main Description       Ingram   \n",
       "3         Main Description    Publisher   \n",
       "4         Main Description       Ingram   \n",
       "...                    ...          ...   \n",
       "148404  Author Affiliation       Ingram   \n",
       "148405    Main Description       Ingram   \n",
       "148406  Author Affiliation       Ingram   \n",
       "148407    Main Description    Publisher   \n",
       "148408    Main Description    Publisher   \n",
       "\n",
       "                                                    annot  \n",
       "0             This is a fantasy adventure by Alan Garner.  \n",
       "1       In those first heady days of a relationship, c...  \n",
       "2       In 1972, 11 Israeli athletes were murdered at ...  \n",
       "3       Watch a video trailer for The Devil's Picnic\\n...  \n",
       "4       In a world where it is becoming increasingly d...  \n",
       "...                                                   ...  \n",
       "148404  Jack Leblanc arrived in China in 1989 intendin...  \n",
       "148405  A Sudanese writer begins to suspect that one o...  \n",
       "148406  Femi B. Adeleye has been involved in student m...  \n",
       "148407  When an opulent palace is built on the Jeddah ...  \n",
       "148408  Winner of the prestigious International Prize ...  \n",
       "\n",
       "[148409 rows x 5 columns]"
      ]
     },
     "execution_count": 4,
     "metadata": {},
     "output_type": "execute_result"
    }
   ],
   "source": [
    "merged_df"
   ]
  },
  {
   "cell_type": "code",
   "execution_count": 5,
   "metadata": {},
   "outputs": [],
   "source": [
    "merged_df.to_csv(\"data.csv\", index=False)"
   ]
  }
 ],
 "metadata": {
  "kernelspec": {
   "display_name": ".venv",
   "language": "python",
   "name": "python3"
  },
  "language_info": {
   "codemirror_mode": {
    "name": "ipython",
    "version": 3
   },
   "file_extension": ".py",
   "mimetype": "text/x-python",
   "name": "python",
   "nbconvert_exporter": "python",
   "pygments_lexer": "ipython3",
   "version": "3.10.12"
  }
 },
 "nbformat": 4,
 "nbformat_minor": 2
}
